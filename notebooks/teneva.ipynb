{
 "cells": [
  {
   "cell_type": "markdown",
   "id": "e51b9291-f33c-40ad-96ee-e2f9454ffc69",
   "metadata": {},
   "source": [
    "**Demo for `teneva.als`**\n",
    "\n",
    "---\n",
    "\n",
    "This module contains the function \"als\" which computes the TT-approximation for the tensor by TT-ALS algorithm, using given random samples."
   ]
  },
  {
   "cell_type": "markdown",
   "id": "3896a55c-1131-44fc-b746-1433ad4ddb08",
   "metadata": {},
   "source": [
    "## Loading and importing modules"
   ]
  },
  {
   "cell_type": "code",
   "execution_count": 4,
   "id": "9941ed2c-6272-4144-8c96-4e800f0b5c49",
   "metadata": {},
   "outputs": [],
   "source": [
    "import numpy as np\n",
    "import teneva\n",
    "from time import perf_counter as tpc\n",
    "np.random.seed(42)\n"
   ]
  },
  {
   "cell_type": "code",
   "execution_count": 5,
   "id": "111e70b3-defb-4336-b579-c6ca307e8dfb",
   "metadata": {},
   "outputs": [],
   "source": [
    "# from qaoa_utils import *\n",
    "import time\n",
    "import matplotlib.pyplot as plt\n",
    "import networkx as nx\n",
    "from functools import partial\n",
    "from qokit.qaoa_objective_maxcut import get_qaoa_maxcut_objective\n",
    "from qokit.maxcut import maxcut_obj, get_adjacency_matrix\n",
    "from qokit.utils import precompute_energies\n"
   ]
  },
  {
   "cell_type": "markdown",
   "id": "3f6437a4-a93e-4265-9fc6-7d4f46a76c4d",
   "metadata": {},
   "source": [
    "## Function `als`"
   ]
  },
  {
   "cell_type": "markdown",
   "id": "cfe8a9e9-ac37-4f38-8008-f81f857ad833",
   "metadata": {},
   "source": [
    "Build TT-tensor by TT-ALS method using given random tensor samples."
   ]
  },
  {
   "cell_type": "code",
   "execution_count": 6,
   "id": "08efceb4-4974-45cc-91a8-2299b4fb5b4a",
   "metadata": {},
   "outputs": [],
   "source": [
    "p = 4\n",
    "d = int(p*2)                           # Dimension of the function\n",
    "a = np.ones(d)*-np.pi   # Lower bounds for spatial grid\n",
    "b = np.ones(d)*np.pi   # Upper bounds for spatial grid\n",
    "n = np.ones(d)*10   # Shape of the tensor\n"
   ]
  },
  {
   "cell_type": "code",
   "execution_count": 7,
   "id": "10ac11a4-e6ed-4098-9e12-a8e2c2ec1bbf",
   "metadata": {},
   "outputs": [],
   "source": [
    "N = 6\n",
    "seed = 1\n",
    "G = nx.random_regular_graph(3,N,seed=seed)\n",
    "\n",
    "# precompute energies to speed up computation\n",
    "obj = partial(maxcut_obj, w=get_adjacency_matrix(G))\n",
    "precomputed_energies = precompute_energies(obj, N)\n",
    "optimal_cut = np.max(precomputed_energies)\n",
    "func0 = get_qaoa_maxcut_objective(N, p, precomputed_cuts=precomputed_energies, parameterization='theta')\n",
    "\n",
    "# G = nx.random_regular_graph(d=3, n=6, seed=12345)\n",
    "# func0 = get_black_box_objective_multiple(G, p=p, n_trials=1024, repeat=1, sv=True) \n"
   ]
  },
  {
   "cell_type": "markdown",
   "id": "e588a535-a646-4545-9f10-e4d09e0255d2",
   "metadata": {},
   "source": [
    "We set the target function (the function takes as input a set of tensor multi-indices I of the shape [samples, dimension], which are transformed into points X of a uniform spatial grid using the function \"ind_to_poi\"):"
   ]
  },
  {
   "cell_type": "code",
   "execution_count": 8,
   "id": "391dd65e-ca27-46f8-a0cc-15a0e3919f08",
   "metadata": {},
   "outputs": [],
   "source": [
    "def func(I):\n",
    "    \"\"\"Schaffer function.\"\"\"\n",
    "    X = teneva.ind_to_poi(I, a, b, n)\n",
    "    # return func0(X)\n",
    "    n_sample = I.shape[0]\n",
    "    y = np.zeros(n_sample)\n",
    "    for i in range(n_sample):\n",
    "        y[i] = func0(X[i])\n",
    "    return y\n"
   ]
  },
  {
   "cell_type": "markdown",
   "id": "bcdae82e-67d7-4177-97e2-d097d5738bbe",
   "metadata": {},
   "source": [
    "We prepare train data from the LHS random distribution:"
   ]
  },
  {
   "cell_type": "code",
   "execution_count": 9,
   "id": "fe4f4875-86df-4026-9129-c400a502e302",
   "metadata": {},
   "outputs": [],
   "source": [
    "m    = 4.E+6   # Number of calls to target function\n",
    "I_trn = teneva.sample_lhs(n, m, seed=42) \n",
    "y_trn = func(I_trn)\n"
   ]
  },
  {
   "cell_type": "markdown",
   "id": "61880140-49a5-404e-9ab1-5172c88e52fa",
   "metadata": {},
   "source": [
    "We prepare test data from the random tensor multi-indices:"
   ]
  },
  {
   "cell_type": "code",
   "execution_count": 10,
   "id": "681f954b-8f65-4691-b72a-7303b8d1a247",
   "metadata": {},
   "outputs": [],
   "source": [
    "m_tst = 1.E+6\n",
    "I_tst = teneva.sample_rand(n, m_tst, seed=2023) \n",
    "y_tst = func(I_tst)\n"
   ]
  },
  {
   "cell_type": "code",
   "execution_count": 11,
   "id": "fec32781-80f8-494e-a25a-a399c916164f",
   "metadata": {},
   "outputs": [
    {
     "name": "stdout",
     "output_type": "stream",
     "text": [
      "# pre | time:      0.836 | rank:  10.0 | \n",
      "#   1 | time:    230.152 | rank:  10.0 | e: 9.6e-02 | \n",
      "#   2 | time:    419.216 | rank:  10.0 | e: 6.5e-02 | \n",
      "#   3 | time:    609.542 | rank:  10.0 | e: 3.2e-02 | \n",
      "#   4 | time:    798.344 | rank:  10.0 | e: 2.5e-02 | \n",
      "#   5 | time:    978.979 | rank:  10.0 | e: 1.2e-02 | \n",
      "#   6 | time:   1155.125 | rank:  10.0 | e: 1.1e-02 | \n",
      "#   7 | time:   1334.749 | rank:  10.0 | e: 9.0e-03 | \n",
      "#   8 | time:   1499.958 | rank:  10.0 | e: 8.0e-03 | \n",
      "#   9 | time:   1636.313 | rank:  10.0 | e: 7.3e-03 | \n",
      "#  10 | time:   1772.514 | rank:  10.0 | e: 5.9e-03 | \n",
      "#  11 | time:   1915.857 | rank:  10.0 | e: 4.3e-03 | \n",
      "#  12 | time:   2052.892 | rank:  10.0 | e: 3.4e-03 | \n",
      "#  13 | time:   2188.869 | rank:  10.0 | e: 3.0e-03 | \n",
      "#  14 | time:   2324.900 | rank:  10.0 | e: 2.9e-03 | \n",
      "#  15 | time:   2461.646 | rank:  10.0 | e: 2.9e-03 | \n",
      "#  16 | time:   2598.239 | rank:  10.0 | e: 2.8e-03 | \n",
      "#  17 | time:   2734.597 | rank:  10.0 | e: 3.1e-03 | \n",
      "#  18 | time:   2870.601 | rank:  10.0 | e: 4.0e-03 | \n",
      "#  19 | time:   3006.810 | rank:  10.0 | e: 5.7e-03 | \n",
      "#  20 | time:   3143.064 | rank:  10.0 | e: 8.2e-03 | \n",
      "#  21 | time:   3279.127 | rank:  10.0 | e: 1.1e-02 | \n",
      "#  22 | time:   3415.552 | rank:  10.0 | e: 1.5e-02 | \n",
      "#  23 | time:   3552.179 | rank:  10.0 | e: 2.3e-02 | \n",
      "#  24 | time:   3688.391 | rank:  10.0 | e: 1.9e-02 | \n",
      "#  25 | time:   3824.544 | rank:  10.0 | e: 2.1e-02 | \n",
      "#  26 | time:   3961.229 | rank:  10.0 | e: 1.3e-02 | \n",
      "#  27 | time:   4097.339 | rank:  10.0 | e: 6.9e-03 | \n",
      "#  28 | time:   4233.674 | rank:  10.0 | e: 4.9e-03 | \n",
      "#  29 | time:   4401.958 | rank:  10.0 | e: 3.9e-03 | \n",
      "#  30 | time:   4569.100 | rank:  10.0 | e: 3.3e-03 | \n",
      "#  31 | time:   4737.578 | rank:  10.0 | e: 2.8e-03 | \n",
      "#  32 | time:   4901.470 | rank:  10.0 | e: 2.5e-03 | \n",
      "#  33 | time:   5063.516 | rank:  10.0 | e: 2.2e-03 | \n",
      "#  34 | time:   5209.203 | rank:  10.0 | e: 2.0e-03 | \n",
      "#  35 | time:   5345.648 | rank:  10.0 | e: 1.8e-03 | \n",
      "#  36 | time:   5482.197 | rank:  10.0 | e: 1.6e-03 | \n",
      "#  37 | time:   5618.639 | rank:  10.0 | e: 1.5e-03 | \n",
      "#  38 | time:   5755.017 | rank:  10.0 | e: 1.4e-03 | \n",
      "#  39 | time:   5891.987 | rank:  10.0 | e: 1.3e-03 | \n",
      "#  40 | time:   6028.571 | rank:  10.0 | e: 1.1e-03 | \n",
      "#  41 | time:   6165.173 | rank:  10.0 | e: 1.0e-03 | \n",
      "#  42 | time:   6301.672 | rank:  10.0 | e: 9.3e-04 | \n",
      "#  43 | time:   6437.935 | rank:  10.0 | e: 8.4e-04 | \n",
      "#  44 | time:   6574.389 | rank:  10.0 | e: 7.5e-04 | \n",
      "#  45 | time:   6710.741 | rank:  10.0 | e: 6.7e-04 | \n",
      "#  46 | time:   6847.194 | rank:  10.0 | e: 6.0e-04 | \n",
      "#  47 | time:   6984.043 | rank:  10.0 | e: 5.4e-04 | \n",
      "#  48 | time:   7120.452 | rank:  10.0 | e: 4.8e-04 | \n",
      "#  49 | time:   7256.864 | rank:  10.0 | e: 4.3e-04 | \n",
      "#  50 | time:   7393.018 | rank:  10.0 | e: 3.8e-04 | stop: nswp | \n",
      "Build time :    7415.66\n"
     ]
    }
   ],
   "source": [
    "# nswp = 10     # Sweep number for ALS iterations\n",
    "# r    = 5      # TT-rank of the initial random tensor\n",
    "\n",
    "t = tpc()\n",
    "Y = teneva.anova(I_trn, y_trn, r=10, order=2)\n",
    "Y = teneva.als(I_trn, y_trn, Y, lamb=0.001, log=True)\n",
    "# Y = teneva.als(I_trn, y_trn, Y, nswp=10, r=r, e_adap=1.E-2, lamb=0.1, log=True)\n",
    "t = tpc() - t\n",
    "\n",
    "print(f'Build time : {t:-10.2f}')\n"
   ]
  },
  {
   "cell_type": "markdown",
   "id": "e74ce8d7-64d1-4ae1-9041-5500a4f8465b",
   "metadata": {},
   "source": [
    "And now we can check the result:"
   ]
  },
  {
   "cell_type": "code",
   "execution_count": 12,
   "id": "292c1545-2e55-46f6-98a3-2e6d4e8e5dc5",
   "metadata": {},
   "outputs": [
    {
     "name": "stdout",
     "output_type": "stream",
     "text": [
      "Error on train :   1.58e-01\n",
      "Error on test  :   1.59e-01\n",
      "NRMSE on test: 0.303703223951617\n"
     ]
    }
   ],
   "source": [
    "# Compute approximation in train points:\n",
    "y_our = teneva.get_many(Y, I_trn)\n",
    "\n",
    "# Accuracy of the result for train points:\n",
    "e_trn = np.linalg.norm(y_our - y_trn)          \n",
    "e_trn /= np.linalg.norm(y_trn)\n",
    "\n",
    "# Compute approximation in test points:\n",
    "y_our = teneva.get_many(Y, I_tst)\n",
    "\n",
    "# Accuracy of the result for test points:\n",
    "e_tst = np.linalg.norm(y_our - y_tst)          \n",
    "e_tst /= np.linalg.norm(y_tst)\n",
    "\n",
    "print(f'Error on train : {e_trn:-10.2e}')\n",
    "print(f'Error on test  : {e_tst:-10.2e}')\n",
    "\n",
    "y_tst.sort()\n",
    "y_our.sort()\n",
    "print(f'NRMSE on test: {np.linalg.norm(y_our - y_tst)/np.sqrt(m_tst)/(y_tst[int(m_tst/4*3)] - y_tst[int(m_tst/4)])}')\n"
   ]
  },
  {
   "cell_type": "code",
   "execution_count": null,
   "id": "54275fd1-b2b7-4ab9-bb31-de95c4ddf978",
   "metadata": {},
   "outputs": [],
   "source": []
  },
  {
   "cell_type": "code",
   "execution_count": null,
   "id": "13e17cd1-86aa-4e0d-b40c-d4c864467ae7",
   "metadata": {},
   "outputs": [],
   "source": []
  },
  {
   "cell_type": "code",
   "execution_count": null,
   "id": "06a271b7-b9df-4a03-8d89-8754734818ac",
   "metadata": {},
   "outputs": [],
   "source": []
  },
  {
   "cell_type": "markdown",
   "id": "37487e85-4cba-4469-96e3-836a50c69215",
   "metadata": {},
   "source": [
    "We can also set a validation data set and specify as a stop criterion the accuracy of the TT-approximation on this data (and we can also present the logs):"
   ]
  },
  {
   "cell_type": "code",
   "execution_count": 13,
   "id": "8aa380dc-4782-4cc1-bea7-60d215cc2537",
   "metadata": {},
   "outputs": [],
   "source": [
    "I_vld = teneva.sample_rand(n, 1.E+3, seed=99) \n",
    "y_vld = func(I_vld)\n"
   ]
  },
  {
   "cell_type": "code",
   "execution_count": 14,
   "id": "f912a161-2930-4d90-9783-2cde879f1518",
   "metadata": {
    "tags": []
   },
   "outputs": [
    {
     "ename": "NameError",
     "evalue": "name 'r' is not defined",
     "output_type": "error",
     "traceback": [
      "\u001b[0;31m---------------------------------------------------------------------------\u001b[0m",
      "\u001b[0;31mNameError\u001b[0m                                 Traceback (most recent call last)",
      "Cell \u001b[0;32mIn[14], line 2\u001b[0m\n\u001b[1;32m      1\u001b[0m t \u001b[38;5;241m=\u001b[39m tpc()\n\u001b[0;32m----> 2\u001b[0m Y \u001b[38;5;241m=\u001b[39m teneva\u001b[38;5;241m.\u001b[39manova(I_trn, y_trn, \u001b[43mr\u001b[49m)\n\u001b[1;32m      3\u001b[0m Y \u001b[38;5;241m=\u001b[39m teneva\u001b[38;5;241m.\u001b[39mals(I_trn, y_trn, Y, nswp, I_vld\u001b[38;5;241m=\u001b[39mI_vld, y_vld\u001b[38;5;241m=\u001b[39my_vld, e_vld\u001b[38;5;241m=\u001b[39m\u001b[38;5;241m1.E-2\u001b[39m, log\u001b[38;5;241m=\u001b[39m\u001b[38;5;28;01mTrue\u001b[39;00m)\n\u001b[1;32m      4\u001b[0m t \u001b[38;5;241m=\u001b[39m tpc() \u001b[38;5;241m-\u001b[39m t\n",
      "\u001b[0;31mNameError\u001b[0m: name 'r' is not defined"
     ]
    }
   ],
   "source": [
    "t = tpc()\n",
    "Y = teneva.anova(I_trn, y_trn, r)\n",
    "Y = teneva.als(I_trn, y_trn, Y, nswp, I_vld=I_vld, y_vld=y_vld, e_vld=1.E-2, log=True)\n",
    "t = tpc() - t\n",
    "\n",
    "print(f'\\nBuild time     : {t:-10.2f}')\n"
   ]
  },
  {
   "cell_type": "markdown",
   "id": "1f35255a-78e8-45d7-bda4-b389596b293b",
   "metadata": {},
   "source": [
    "We can use helper functions to present the resulting accuracy:"
   ]
  },
  {
   "cell_type": "code",
   "execution_count": null,
   "id": "609329e5-6dd1-4570-b481-f806bac5f36c",
   "metadata": {},
   "outputs": [
    {
     "name": "stdout",
     "output_type": "stream",
     "text": [
      "Error on train :   1.27e-03\n",
      "Error on valid.:   5.01e-02\n",
      "Error on test  :   4.95e-02\n"
     ]
    }
   ],
   "source": [
    "print(f'Error on train : {teneva.accuracy_on_data(Y, I_trn, y_trn):-10.2e}')\n",
    "print(f'Error on valid.: {teneva.accuracy_on_data(Y, I_vld, y_vld):-10.2e}')\n",
    "print(f'Error on test  : {teneva.accuracy_on_data(Y, I_tst, y_tst):-10.2e}')\n"
   ]
  },
  {
   "cell_type": "markdown",
   "id": "28018274-2dbe-456d-a7bb-52601f7cb0e9",
   "metadata": {},
   "source": [
    "We may also set the value of relative rate of solution change to stop the iterations:"
   ]
  },
  {
   "cell_type": "code",
   "execution_count": null,
   "id": "7668d2aa-ac83-400b-9f28-f3a62e6bd733",
   "metadata": {
    "tags": []
   },
   "outputs": [
    {
     "name": "stdout",
     "output_type": "stream",
     "text": [
      "# pre | time:      0.002 | rank:   5.0 | e_vld: 2.1e-01 | \n",
      "#   1 | time:      0.049 | rank:   5.0 | e_vld: 1.1e-01 | e: 1.9e-01 | \n",
      "#   2 | time:      0.087 | rank:   5.0 | e_vld: 2.2e-02 | e: 1.1e-01 | \n",
      "#   3 | time:      0.124 | rank:   5.0 | e_vld: 1.0e-02 | e: 1.6e-02 | \n",
      "#   4 | time:      0.158 | rank:   5.0 | e_vld: 6.5e-03 | e: 4.1e-03 | \n",
      "#   5 | time:      0.197 | rank:   5.0 | e_vld: 4.6e-03 | e: 2.3e-03 | \n",
      "#   6 | time:      0.239 | rank:   5.0 | e_vld: 3.7e-03 | e: 1.2e-03 | \n",
      "#   7 | time:      0.278 | rank:   5.0 | e_vld: 3.1e-03 | e: 7.7e-04 | stop: e | \n",
      "\n",
      "Build time     :       0.28\n"
     ]
    }
   ],
   "source": [
    "t = tpc()\n",
    "Y = teneva.anova(I_trn, y_trn, r)\n",
    "Y = teneva.als(I_trn, y_trn, Y, e=1.E-3, I_vld=I_vld, y_vld=y_vld, log=True)\n",
    "t = tpc() - t\n",
    "\n",
    "print(f'\\nBuild time     : {t:-10.2f}')\n"
   ]
  },
  {
   "cell_type": "code",
   "execution_count": null,
   "id": "08124e61-4678-4586-b351-4bf185d80b95",
   "metadata": {},
   "outputs": [
    {
     "name": "stdout",
     "output_type": "stream",
     "text": [
      "Error on train :   2.63e-03\n",
      "Error on valid.:   3.11e-03\n",
      "Error on test  :   2.94e-03\n"
     ]
    }
   ],
   "source": [
    "print(f'Error on train : {teneva.accuracy_on_data(Y, I_trn, y_trn):-10.2e}')\n",
    "print(f'Error on valid.: {teneva.accuracy_on_data(Y, I_vld, y_vld):-10.2e}')\n",
    "print(f'Error on test  : {teneva.accuracy_on_data(Y, I_tst, y_tst):-10.2e}')\n"
   ]
  },
  {
   "cell_type": "code",
   "execution_count": null,
   "id": "805274c7-dea6-4d7b-8594-982f62983996",
   "metadata": {},
   "outputs": [],
   "source": []
  },
  {
   "cell_type": "code",
   "execution_count": null,
   "id": "4dac034a-c019-4182-adc9-5e8f4a4bf9a0",
   "metadata": {},
   "outputs": [],
   "source": []
  },
  {
   "cell_type": "code",
   "execution_count": null,
   "id": "b07f7d8f-7fb6-405f-873f-47c8de6a76b3",
   "metadata": {},
   "outputs": [],
   "source": []
  },
  {
   "cell_type": "markdown",
   "id": "c28f4023-1f98-4cf6-a5bd-945ab5937ec3",
   "metadata": {},
   "source": [
    "We may also pass callback function (it will be called after every sweep):"
   ]
  },
  {
   "cell_type": "code",
   "execution_count": null,
   "id": "b10725d8-370f-4401-870a-3d5f579b35a2",
   "metadata": {},
   "outputs": [],
   "source": [
    "def cb(Y, info, opts):\n",
    "    e = teneva.accuracy(Y, opts['Yold'])\n",
    "    print(f'Callback : e={e:-7.1e}')\n",
    "    if info['nswp'] == 5:\n",
    "        # Stop the algorithm's work\n",
    "        return True\n"
   ]
  },
  {
   "cell_type": "code",
   "execution_count": null,
   "id": "de9192b7-838d-4fe1-9eca-1b373d5e173b",
   "metadata": {},
   "outputs": [
    {
     "name": "stdout",
     "output_type": "stream",
     "text": [
      "# pre | time:      0.001 | rank:   5.0 | \n",
      "Callback : e=1.9e-01\n",
      "#   1 | time:      0.047 | rank:   5.0 | e: 1.9e-01 | \n",
      "Callback : e=1.1e-01\n",
      "#   2 | time:      0.082 | rank:   5.0 | e: 1.1e-01 | \n",
      "Callback : e=1.8e-02\n",
      "#   3 | time:      0.122 | rank:   5.0 | e: 1.8e-02 | \n",
      "Callback : e=2.3e-03\n",
      "#   4 | time:      0.162 | rank:   5.0 | e: 2.3e-03 | \n",
      "Callback : e=8.8e-04\n",
      "#   5 | time:      0.202 | rank:   5.0 | e: 8.8e-04 | stop: cb | \n",
      "\n",
      "Build time     :       0.21\n"
     ]
    }
   ],
   "source": [
    "t = tpc()\n",
    "Y = teneva.anova(I_trn, y_trn, r)\n",
    "Y = teneva.als(I_trn, y_trn, Y, e=1.E-10, cb=cb, log=True)\n",
    "t = tpc() - t\n",
    "\n",
    "print(f'\\nBuild time     : {t:-10.2f}')\n"
   ]
  },
  {
   "cell_type": "markdown",
   "id": "145dca4d-36fd-42e1-a177-7577ffd8139a",
   "metadata": {},
   "source": [
    "We can also use rank-adaptive version of the TT-ALS method (note that result is very sensitive to \"r\" and \"lamb\" parameter values):"
   ]
  },
  {
   "cell_type": "code",
   "execution_count": null,
   "id": "3a89ae48-bb04-4262-b8b5-c3b1c9dd90db",
   "metadata": {},
   "outputs": [
    {
     "name": "stdout",
     "output_type": "stream",
     "text": [
      "# pre | time:      0.002 | rank:   2.0 | e_vld: 2.1e-01 | \n",
      "#   1 | time:      0.180 | rank:   5.0 | e_vld: 2.1e-02 | e: 2.2e-01 | \n",
      "#   2 | time:      0.353 | rank:   3.9 | e_vld: 6.9e-03 | e: 2.0e-02 | \n",
      "#   3 | time:      0.514 | rank:   3.9 | e_vld: 6.5e-03 | e: 2.6e-03 | \n",
      "#   4 | time:      0.675 | rank:   4.2 | e_vld: 7.6e-03 | e: 6.3e-03 | \n",
      "#   5 | time:      0.840 | rank:   3.9 | e_vld: 6.6e-03 | e: 6.3e-03 | stop: nswp | \n",
      "\n",
      "Build time     :       0.85\n"
     ]
    }
   ],
   "source": [
    "t = tpc()\n",
    "Y = teneva.anova(I_trn, y_trn, r=2)\n",
    "Y = teneva.als(I_trn, y_trn, Y, nswp=5,\n",
    "    I_vld=I_vld, y_vld=y_vld, r=5, e_adap=1.E-2, lamb=0.00001, log=True)\n",
    "t = tpc() - t\n",
    "\n",
    "print(f'\\nBuild time     : {t:-10.2f}')\n"
   ]
  },
  {
   "cell_type": "code",
   "execution_count": null,
   "id": "c9654ed9-6c9e-4400-8cac-64592593caf5",
   "metadata": {},
   "outputs": [
    {
     "name": "stdout",
     "output_type": "stream",
     "text": [
      "Error on train :   6.54e-03\n",
      "Error on valid.:   6.58e-03\n",
      "Error on test  :   7.22e-03\n"
     ]
    }
   ],
   "source": [
    "print(f'Error on train : {teneva.accuracy_on_data(Y, I_trn, y_trn):-10.2e}')\n",
    "print(f'Error on valid.: {teneva.accuracy_on_data(Y, I_vld, y_vld):-10.2e}')\n",
    "print(f'Error on test  : {teneva.accuracy_on_data(Y, I_tst, y_tst):-10.2e}')\n"
   ]
  },
  {
   "cell_type": "markdown",
   "id": "942d4b39-fdac-488b-be73-d0b69f252294",
   "metadata": {},
   "source": [
    "We can also specify weights for elements of the training dataset. In the following example, we set increased weights for the first 1000 points from the set and expect that the accuracy of the result on them will be higher than on the rest:"
   ]
  },
  {
   "cell_type": "code",
   "execution_count": null,
   "id": "6caa65a3-d7b7-4004-8387-f61e7faabcbf",
   "metadata": {},
   "outputs": [],
   "source": [
    "m = len(I_trn)\n",
    "dm = 1000\n",
    "I_trn1, y_trn1 = I_trn[:dm], y_trn[:dm]\n",
    "I_trn2, y_trn2 = I_trn[dm:], y_trn[dm:]\n",
    "\n",
    "w = np.ones(m)\n",
    "w[:dm] = 100.\n"
   ]
  },
  {
   "cell_type": "code",
   "execution_count": null,
   "id": "9e428fa9-f303-4db6-a0e0-8dfad5053793",
   "metadata": {},
   "outputs": [
    {
     "name": "stdout",
     "output_type": "stream",
     "text": [
      "Build time     :       1.96\n"
     ]
    }
   ],
   "source": [
    "t = tpc()\n",
    "Y = teneva.anova(I_trn, y_trn, r)\n",
    "Y = teneva.als(I_trn, y_trn, Y, w=w)\n",
    "t = tpc() - t\n",
    "\n",
    "print(f'Build time     : {t:-10.2f}')\n"
   ]
  },
  {
   "cell_type": "code",
   "execution_count": null,
   "id": "dbf4008a-32f1-499b-b093-6ac6f906a130",
   "metadata": {},
   "outputs": [
    {
     "name": "stdout",
     "output_type": "stream",
     "text": [
      "Error full data :   9.89e-03\n",
      "Error for part1 :   2.68e-03\n",
      "Error for part2 :   1.04e-02\n"
     ]
    }
   ],
   "source": [
    "print(f'Error full data : {teneva.accuracy_on_data(Y, I_trn, y_trn):-10.2e}')\n",
    "print(f'Error for part1 : {teneva.accuracy_on_data(Y, I_trn1, y_trn1):-10.2e}')\n",
    "print(f'Error for part2 : {teneva.accuracy_on_data(Y, I_trn2, y_trn2):-10.2e}')\n"
   ]
  },
  {
   "cell_type": "markdown",
   "id": "5fa6be88-4023-4642-8fea-567df27aaad9",
   "metadata": {},
   "source": [
    "---"
   ]
  }
 ],
 "metadata": {
  "kernelspec": {
   "display_name": "oscar",
   "language": "python",
   "name": "python3"
  },
  "language_info": {
   "codemirror_mode": {
    "name": "ipython",
    "version": 3
   },
   "file_extension": ".py",
   "mimetype": "text/x-python",
   "name": "python",
   "nbconvert_exporter": "python",
   "pygments_lexer": "ipython3",
   "version": "3.11.6"
  }
 },
 "nbformat": 4,
 "nbformat_minor": 5
}
